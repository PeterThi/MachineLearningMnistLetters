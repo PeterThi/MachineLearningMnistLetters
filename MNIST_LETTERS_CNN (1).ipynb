{
  "nbformat": 4,
  "nbformat_minor": 0,
  "metadata": {
    "colab": {
      "provenance": [],
      "gpuType": "T4"
    },
    "kernelspec": {
      "name": "python3",
      "display_name": "Python 3"
    },
    "language_info": {
      "name": "python"
    },
    "accelerator": "GPU"
  },
  "cells": [
    {
      "cell_type": "markdown",
      "source": [
        "Data Preparation"
      ],
      "metadata": {
        "id": "6scCrpchoWV-"
      }
    },
    {
      "cell_type": "code",
      "execution_count": 4,
      "metadata": {
        "id": "0lKcfhJ3ygMW"
      },
      "outputs": [],
      "source": [
        "import pandas as pd\n",
        "train_set=pd.read_csv('emnist-letters-train.csv').to_numpy()\n",
        "test_set =pd.read_csv('emnist-letters-test.csv').to_numpy()"
      ]
    },
    {
      "cell_type": "code",
      "source": [
        "y = train_set[:, 0]\n",
        "X = train_set[:, 1:]\n",
        "X_valid,X_train = X[:17500] / 255, X[17500:] / 255\n",
        "y_valid,y_train = y[:17500], y[17500:]"
      ],
      "metadata": {
        "id": "o1A1QAKuy3M1"
      },
      "execution_count": 5,
      "outputs": []
    },
    {
      "cell_type": "code",
      "source": [
        "test_y = test_set[:, 0]\n",
        "test_X = test_set[:, 1:]\n",
        "X_test = test_X / 255\n",
        "y_test = test_y"
      ],
      "metadata": {
        "id": "m1e_QbvezPnm"
      },
      "execution_count": 6,
      "outputs": []
    },
    {
      "cell_type": "code",
      "source": [
        "import numpy as np\n",
        "X_train = np.reshape(X_train, (-1,28,28,1))\n",
        "X_test = np.reshape(X_test, (-1,28,28,1))\n",
        "X_train.shape, X_test.shape"
      ],
      "metadata": {
        "colab": {
          "base_uri": "https://localhost:8080/"
        },
        "id": "ewINK2pNzC0K",
        "outputId": "ff6b6073-a572-4ece-9cf1-a7dfdb08912b"
      },
      "execution_count": 7,
      "outputs": [
        {
          "output_type": "execute_result",
          "data": {
            "text/plain": [
              "((71299, 28, 28, 1), (14799, 28, 28, 1))"
            ]
          },
          "metadata": {},
          "execution_count": 7
        }
      ]
    },
    {
      "cell_type": "code",
      "source": [
        "X_valid = np.reshape(X_valid, (-1,28,28,1))\n",
        "X_valid.shape"
      ],
      "metadata": {
        "colab": {
          "base_uri": "https://localhost:8080/"
        },
        "id": "OYDZM_Jo2QWx",
        "outputId": "7536b72d-f161-4dd3-b409-9e6dffda861c"
      },
      "execution_count": 8,
      "outputs": [
        {
          "output_type": "execute_result",
          "data": {
            "text/plain": [
              "(17500, 28, 28, 1)"
            ]
          },
          "metadata": {},
          "execution_count": 8
        }
      ]
    },
    {
      "cell_type": "code",
      "source": [
        "\n",
        "y_valid.shape"
      ],
      "metadata": {
        "colab": {
          "base_uri": "https://localhost:8080/"
        },
        "id": "eYmNBHWf2zob",
        "outputId": "2191e821-72af-44e8-8970-ec0ba3c7eae5"
      },
      "execution_count": 9,
      "outputs": [
        {
          "output_type": "execute_result",
          "data": {
            "text/plain": [
              "(17500,)"
            ]
          },
          "metadata": {},
          "execution_count": 9
        }
      ]
    },
    {
      "cell_type": "code",
      "source": [
        "y_train.shape"
      ],
      "metadata": {
        "colab": {
          "base_uri": "https://localhost:8080/"
        },
        "id": "ilMg1i4u3Xed",
        "outputId": "44f7f971-7327-48f1-90f2-9f019dd1ea3f"
      },
      "execution_count": 10,
      "outputs": [
        {
          "output_type": "execute_result",
          "data": {
            "text/plain": [
              "(71299,)"
            ]
          },
          "metadata": {},
          "execution_count": 10
        }
      ]
    },
    {
      "cell_type": "markdown",
      "source": [
        "CNN Model Building\n"
      ],
      "metadata": {
        "id": "h2SOcaN6y5jM"
      }
    },
    {
      "cell_type": "code",
      "source": [
        "#Building the model\n",
        "from tensorflow import keras\n",
        "CnnModel = keras.models.Sequential([\n",
        "    keras.layers.Conv2D(filters=64, kernel_size=7, activation='relu', padding=\"SAME\",\n",
        "                        input_shape=[28, 28, 1]),\n",
        "    keras.layers.MaxPooling2D(pool_size=2),\n",
        "    keras.layers.Conv2D(filters=128, kernel_size=3, activation='relu', padding=\"SAME\"),\n",
        "    keras.layers.Conv2D(filters=128, kernel_size=3, activation='relu', padding=\"SAME\"),\n",
        "    keras.layers.MaxPooling2D(pool_size=2),\n",
        "    keras.layers.Conv2D(filters=256, kernel_size=3, activation='relu', padding=\"SAME\"),\n",
        "    keras.layers.Conv2D(filters=256, kernel_size=3, activation='relu', padding=\"SAME\"),\n",
        "    keras.layers.MaxPooling2D(pool_size=2),\n",
        "    keras.layers.Flatten(),\n",
        "    keras.layers.Dense(units=128, activation='relu'),\n",
        "    keras.layers.Dropout(0.5),\n",
        "    keras.layers.Dense(units=64, activation='relu'),\n",
        "    keras.layers.Dropout(0.5),\n",
        "    keras.layers.Dense(units=27, activation='softmax'),\n",
        "])"
      ],
      "metadata": {
        "id": "Pc7gwGtmy60z"
      },
      "execution_count": 11,
      "outputs": []
    },
    {
      "cell_type": "code",
      "source": [
        "#Callbacks\n",
        "#stops the training if val_accuracy doesn't improve in 10 epochs\n",
        "from keras.callbacks import EarlyStopping\n",
        "early_stopping = EarlyStopping(monitor='val_accuracy', patience=10, restore_best_weights=True)"
      ],
      "metadata": {
        "id": "Tgl6g7QE6QKS"
      },
      "execution_count": 12,
      "outputs": []
    },
    {
      "cell_type": "code",
      "source": [
        "#overview of the model\n",
        "CnnModel.summary()"
      ],
      "metadata": {
        "colab": {
          "base_uri": "https://localhost:8080/"
        },
        "id": "rwk_Gvo306-6",
        "outputId": "b12157b5-6af5-4835-a187-92efb45fad0f"
      },
      "execution_count": 13,
      "outputs": [
        {
          "output_type": "stream",
          "name": "stdout",
          "text": [
            "Model: \"sequential\"\n",
            "_________________________________________________________________\n",
            " Layer (type)                Output Shape              Param #   \n",
            "=================================================================\n",
            " conv2d (Conv2D)             (None, 28, 28, 64)        3200      \n",
            "                                                                 \n",
            " max_pooling2d (MaxPooling2  (None, 14, 14, 64)        0         \n",
            " D)                                                              \n",
            "                                                                 \n",
            " conv2d_1 (Conv2D)           (None, 14, 14, 128)       73856     \n",
            "                                                                 \n",
            " conv2d_2 (Conv2D)           (None, 14, 14, 128)       147584    \n",
            "                                                                 \n",
            " max_pooling2d_1 (MaxPoolin  (None, 7, 7, 128)         0         \n",
            " g2D)                                                            \n",
            "                                                                 \n",
            " conv2d_3 (Conv2D)           (None, 7, 7, 256)         295168    \n",
            "                                                                 \n",
            " conv2d_4 (Conv2D)           (None, 7, 7, 256)         590080    \n",
            "                                                                 \n",
            " max_pooling2d_2 (MaxPoolin  (None, 3, 3, 256)         0         \n",
            " g2D)                                                            \n",
            "                                                                 \n",
            " flatten (Flatten)           (None, 2304)              0         \n",
            "                                                                 \n",
            " dense (Dense)               (None, 128)               295040    \n",
            "                                                                 \n",
            " dropout (Dropout)           (None, 128)               0         \n",
            "                                                                 \n",
            " dense_1 (Dense)             (None, 64)                8256      \n",
            "                                                                 \n",
            " dropout_1 (Dropout)         (None, 64)                0         \n",
            "                                                                 \n",
            " dense_2 (Dense)             (None, 27)                1755      \n",
            "                                                                 \n",
            "=================================================================\n",
            "Total params: 1414939 (5.40 MB)\n",
            "Trainable params: 1414939 (5.40 MB)\n",
            "Non-trainable params: 0 (0.00 Byte)\n",
            "_________________________________________________________________\n"
          ]
        }
      ]
    },
    {
      "cell_type": "code",
      "source": [
        "CnnModel.compile(loss=\"sparse_categorical_crossentropy\",\n",
        "              optimizer=keras.optimizers.SGD(momentum=0.9),\n",
        "              metrics=[\"accuracy\"])"
      ],
      "metadata": {
        "id": "3T9rn6C31BQM"
      },
      "execution_count": 14,
      "outputs": []
    },
    {
      "cell_type": "markdown",
      "source": [
        "Train model"
      ],
      "metadata": {
        "id": "kH2QfNQM1IOe"
      }
    },
    {
      "cell_type": "code",
      "source": [
        "history = CnnModel.fit(X_train, y_train, epochs=30, validation_data=(X_valid, y_valid), callbacks=[early_stopping])"
      ],
      "metadata": {
        "colab": {
          "base_uri": "https://localhost:8080/"
        },
        "id": "-W0M3AEE1Jht",
        "outputId": "bb4718b8-6dbe-4e57-cc46-4de1668f9a9b"
      },
      "execution_count": 16,
      "outputs": [
        {
          "output_type": "stream",
          "name": "stdout",
          "text": [
            "Epoch 1/30\n",
            "2229/2229 [==============================] - 24s 8ms/step - loss: 1.4944 - accuracy: 0.5431 - val_loss: 0.3858 - val_accuracy: 0.8695\n",
            "Epoch 2/30\n",
            "2229/2229 [==============================] - 18s 8ms/step - loss: 0.5351 - accuracy: 0.8385 - val_loss: 0.2457 - val_accuracy: 0.9239\n",
            "Epoch 3/30\n",
            "2229/2229 [==============================] - 18s 8ms/step - loss: 0.4069 - accuracy: 0.8807 - val_loss: 0.2359 - val_accuracy: 0.9250\n",
            "Epoch 4/30\n",
            "2229/2229 [==============================] - 17s 8ms/step - loss: 0.3481 - accuracy: 0.8976 - val_loss: 0.2271 - val_accuracy: 0.9286\n",
            "Epoch 5/30\n",
            "2229/2229 [==============================] - 17s 7ms/step - loss: 0.3142 - accuracy: 0.9055 - val_loss: 0.2231 - val_accuracy: 0.9350\n",
            "Epoch 6/30\n",
            "2229/2229 [==============================] - 17s 7ms/step - loss: 0.2848 - accuracy: 0.9137 - val_loss: 0.2106 - val_accuracy: 0.9379\n",
            "Epoch 7/30\n",
            "2229/2229 [==============================] - 17s 8ms/step - loss: 0.2706 - accuracy: 0.9178 - val_loss: 0.2107 - val_accuracy: 0.9366\n",
            "Epoch 8/30\n",
            "2229/2229 [==============================] - 17s 8ms/step - loss: 0.2516 - accuracy: 0.9229 - val_loss: 0.2039 - val_accuracy: 0.9382\n",
            "Epoch 9/30\n",
            "2229/2229 [==============================] - 17s 8ms/step - loss: 0.2388 - accuracy: 0.9270 - val_loss: 0.2053 - val_accuracy: 0.9373\n",
            "Epoch 10/30\n",
            "2229/2229 [==============================] - 17s 8ms/step - loss: 0.2249 - accuracy: 0.9304 - val_loss: 0.2061 - val_accuracy: 0.9433\n",
            "Epoch 11/30\n",
            "2229/2229 [==============================] - 17s 8ms/step - loss: 0.2131 - accuracy: 0.9324 - val_loss: 0.2030 - val_accuracy: 0.9418\n",
            "Epoch 12/30\n",
            "2229/2229 [==============================] - 17s 8ms/step - loss: 0.2137 - accuracy: 0.9323 - val_loss: 0.2050 - val_accuracy: 0.9386\n",
            "Epoch 13/30\n",
            "2229/2229 [==============================] - 18s 8ms/step - loss: 0.1966 - accuracy: 0.9373 - val_loss: 0.2044 - val_accuracy: 0.9418\n",
            "Epoch 14/30\n",
            "2229/2229 [==============================] - 17s 7ms/step - loss: 0.1837 - accuracy: 0.9407 - val_loss: 0.2170 - val_accuracy: 0.9427\n",
            "Epoch 15/30\n",
            "2229/2229 [==============================] - 17s 8ms/step - loss: 0.1772 - accuracy: 0.9417 - val_loss: 0.2276 - val_accuracy: 0.9393\n",
            "Epoch 16/30\n",
            "2229/2229 [==============================] - 17s 7ms/step - loss: 0.1746 - accuracy: 0.9426 - val_loss: 0.2317 - val_accuracy: 0.9380\n",
            "Epoch 17/30\n",
            "2229/2229 [==============================] - 18s 8ms/step - loss: 0.1678 - accuracy: 0.9450 - val_loss: 0.2123 - val_accuracy: 0.9436\n",
            "Epoch 18/30\n",
            "2229/2229 [==============================] - 18s 8ms/step - loss: 0.1640 - accuracy: 0.9452 - val_loss: 0.2410 - val_accuracy: 0.9417\n",
            "Epoch 19/30\n",
            "2229/2229 [==============================] - 17s 8ms/step - loss: 0.1686 - accuracy: 0.9437 - val_loss: 0.2327 - val_accuracy: 0.9418\n",
            "Epoch 20/30\n",
            "2229/2229 [==============================] - 18s 8ms/step - loss: 0.1606 - accuracy: 0.9477 - val_loss: 0.2468 - val_accuracy: 0.9418\n",
            "Epoch 21/30\n",
            "2229/2229 [==============================] - 18s 8ms/step - loss: 0.1523 - accuracy: 0.9493 - val_loss: 0.2524 - val_accuracy: 0.9415\n",
            "Epoch 22/30\n",
            "2229/2229 [==============================] - 18s 8ms/step - loss: 0.1511 - accuracy: 0.9490 - val_loss: 0.2564 - val_accuracy: 0.9408\n",
            "Epoch 23/30\n",
            "2229/2229 [==============================] - 17s 8ms/step - loss: 0.1524 - accuracy: 0.9482 - val_loss: 0.2518 - val_accuracy: 0.9434\n",
            "Epoch 24/30\n",
            "2229/2229 [==============================] - 17s 8ms/step - loss: 0.1541 - accuracy: 0.9480 - val_loss: 0.2872 - val_accuracy: 0.9424\n",
            "Epoch 25/30\n",
            "2229/2229 [==============================] - 19s 8ms/step - loss: 0.1522 - accuracy: 0.9485 - val_loss: 0.2579 - val_accuracy: 0.9398\n",
            "Epoch 26/30\n",
            "2229/2229 [==============================] - 17s 8ms/step - loss: 0.1528 - accuracy: 0.9501 - val_loss: 0.3255 - val_accuracy: 0.9355\n",
            "Epoch 27/30\n",
            "2229/2229 [==============================] - 18s 8ms/step - loss: 0.1802 - accuracy: 0.9422 - val_loss: 0.2750 - val_accuracy: 0.9373\n"
          ]
        }
      ]
    },
    {
      "cell_type": "markdown",
      "source": [
        "Evaluate the model"
      ],
      "metadata": {
        "id": "p-AVbkJS6oqr"
      }
    },
    {
      "cell_type": "code",
      "source": [
        "%matplotlib inline\n",
        "import matplotlib.pyplot as plt\n",
        "\n",
        "pd.DataFrame(history.history).plot(figsize=(8, 5))\n",
        "plt.grid(True)\n",
        "plt.gca().set_ylim(0, 1)\n",
        "plt.show()"
      ],
      "metadata": {
        "colab": {
          "base_uri": "https://localhost:8080/",
          "height": 451
        },
        "id": "fmUznCy46p37",
        "outputId": "927ea061-59aa-4bd1-b57c-3db8f09c6f09"
      },
      "execution_count": 17,
      "outputs": [
        {
          "output_type": "display_data",
          "data": {
            "text/plain": [
              "<Figure size 800x500 with 1 Axes>"
            ],
            "image/png": "[encoded data removed]"
          },
          "metadata": {}
        }
      ]
    },
    {
      "cell_type": "code",
      "source": [
        "#Evaluate model on test data (separate csv file!)\n",
        "CnnModel.evaluate(X_test, y_test)"
      ],
      "metadata": {
        "colab": {
          "base_uri": "https://localhost:8080/"
        },
        "id": "x4bBw4N16qo6",
        "outputId": "b5fb27cb-7f5e-4837-d460-ae843b5f5a4b"
      },
      "execution_count": 18,
      "outputs": [
        {
          "output_type": "stream",
          "name": "stdout",
          "text": [
            "463/463 [==============================] - 2s 4ms/step - loss: 0.2330 - accuracy: 0.9342\n"
          ]
        },
        {
          "output_type": "execute_result",
          "data": {
            "text/plain": [
              "[0.2330447882413864, 0.934184730052948]"
            ]
          },
          "metadata": {},
          "execution_count": 18
        }
      ]
    },
    {
      "cell_type": "code",
      "source": [
        "#Here we display the grayscale images using MatPlotLib to analyze which letters are problematic for our model, and get some visual clues\n",
        "predictions = np.argmax(CnnModel.predict(X_test), axis=1)\n",
        "\n",
        "#number of random letters to show\n",
        "sample_size = 5\n",
        "for i in range(sample_size):\n",
        "  #we choose a random index in the test data\n",
        "  index = np.random.randint(len(X_test))\n",
        "\n",
        "  #Image is upside down, so we rotate 90 degrees\n",
        "\n",
        "  rotated_image = np.rot90(X_test[index].reshape(28, 28), k=-1)\n",
        "\n",
        "  #Image is mirrored, so we flip it vertically\n",
        "  mirrored_image = np.fliplr(rotated_image)\n",
        "\n",
        "  #show plot\n",
        "  plt.imshow(mirrored_image, cmap='gray')\n",
        "  plt.axis('off')\n",
        "  plt.show()\n",
        "\n",
        "  #initiate predictions\n",
        "  predicted_class = predictions[index]\n",
        "  actual_class = y_test[index]\n",
        "\n",
        "  #Convert the ascii-index to letters in the alphabet (which is offset by 96 for lowercase letters)\n",
        "  predicted_letter = chr(predicted_class + 96) if predicted_class != 0 else 'not a letter'\n",
        "  actual_letter = chr(actual_class + 96) if actual_class != 0 else 'Not a letter'\n",
        "\n",
        "\n",
        "  #Check if the model's prediction matches the actual classification by the model\n",
        "  if predicted_class == actual_class:\n",
        "    print(\"Correct Prediction!\")\n",
        "  else:\n",
        "    print(\"Incorrect Prediction.\")\n",
        "\n",
        "  print(\"Predicted Letter:\", predicted_letter)\n",
        "  print(\"Actual Letter:\", actual_letter)"
      ],
      "metadata": {
        "colab": {
          "base_uri": "https://localhost:8080/",
          "height": 1000
        },
        "id": "u9pXxZNp-8or",
        "outputId": "a35e74ac-798e-4b88-de6b-9367b081c6dc"
      },
      "execution_count": 30,
      "outputs": [
        {
          "output_type": "stream",
          "name": "stdout",
          "text": [
            "463/463 [==============================] - 1s 2ms/step\n"
          ]
        },
        {
          "output_type": "display_data",
          "data": {
            "text/plain": [
              "<Figure size 640x480 with 1 Axes>"
            ],
            "image/png": "[encoded data removed]"
          },
          "metadata": {}
        },
        {
          "output_type": "stream",
          "name": "stdout",
          "text": [
            "Correct Prediction!\n",
            "Predicted Letter: m\n",
            "Actual Letter: m\n"
          ]
        },
        {
          "output_type": "display_data",
          "data": {
            "text/plain": [
              "<Figure size 640x480 with 1 Axes>"
            ],
            "image/png": "[encoded data removed]"
          },
          "metadata": {}
        },
        {
          "output_type": "stream",
          "name": "stdout",
          "text": [
            "Correct Prediction!\n",
            "Predicted Letter: d\n",
            "Actual Letter: d\n"
          ]
        },
        {
          "output_type": "display_data",
          "data": {
            "text/plain": [
              "<Figure size 640x480 with 1 Axes>"
            ],
            "image/png": "[encoded data removed]"
          },
          "metadata": {}
        },
        {
          "output_type": "stream",
          "name": "stdout",
          "text": [
            "Incorrect Prediction.\n",
            "Predicted Letter: l\n",
            "Actual Letter: i\n"
          ]
        },
        {
          "output_type": "display_data",
          "data": {
            "text/plain": [
              "<Figure size 640x480 with 1 Axes>"
            ],
            "image/png": "[encoded data removed]"
          },
          "metadata": {}
        },
        {
          "output_type": "stream",
          "name": "stdout",
          "text": [
            "Correct Prediction!\n",
            "Predicted Letter: s\n",
            "Actual Letter: s\n"
          ]
        },
        {
          "output_type": "display_data",
          "data": {
            "text/plain": [
              "<Figure size 640x480 with 1 Axes>"
            ],
            "image/png": "[encoded data removed]"
          },
          "metadata": {}
        },
        {
          "output_type": "stream",
          "name": "stdout",
          "text": [
            "Correct Prediction!\n",
            "Predicted Letter: q\n",
            "Actual Letter: q\n"
          ]
        }
      ]
    }
  ]
}