{
  "nbformat": 4,
  "nbformat_minor": 0,
  "metadata": {
    "colab": {
      "provenance": []
    },
    "kernelspec": {
      "name": "python3",
      "display_name": "Python 3"
    },
    "language_info": {
      "name": "python"
    }
  },
  "cells": [
    {
      "cell_type": "code",
      "execution_count": 1,
      "metadata": {
        "id": "FCGkXUo0nzcd"
      },
      "outputs": [],
      "source": [
        "#Import dataset from csv.\n",
        "import pandas as pd\n",
        "train_set=pd.read_csv('emnist-letters-train.csv').to_numpy()\n",
        "test_set =pd.read_csv('emnist-letters-test.csv').to_numpy()\n"
      ]
    },
    {
      "cell_type": "code",
      "source": [
        "train_set.shape"
      ],
      "metadata": {
        "colab": {
          "base_uri": "https://localhost:8080/"
        },
        "id": "F5dNs29UwiX2",
        "outputId": "91bc07e9-13f6-4efc-b640-674902953c10"
      },
      "execution_count": null,
      "outputs": [
        {
          "output_type": "execute_result",
          "data": {
            "text/plain": [
              "(88799, 785)"
            ]
          },
          "metadata": {},
          "execution_count": 96
        }
      ]
    },
    {
      "cell_type": "code",
      "source": [
        "#split up the labels\n",
        "y = train_set[:, 0]\n",
        "X = train_set[:, 1:]\n",
        "#split up into validation set --> 20% for validation\n",
        "X_valid,X_train = X[:17500], X[17500:]\n",
        "y_valid,y_train = y[:17500], y[17500:]"
      ],
      "metadata": {
        "id": "mnLT_Xo6wRDv"
      },
      "execution_count": 2,
      "outputs": []
    },
    {
      "cell_type": "code",
      "source": [
        "test_y = test_set[:, 0]\n",
        "test_X = test_set[:, 1:]\n",
        "X_test = test_X\n",
        "y_test = test_y"
      ],
      "metadata": {
        "id": "R7t7FhCu2dqn"
      },
      "execution_count": null,
      "outputs": []
    },
    {
      "cell_type": "markdown",
      "source": [
        "Hyper tuning"
      ],
      "metadata": {
        "id": "WZxp-xZQ9wD6"
      }
    },
    {
      "cell_type": "code",
      "source": [
        "#imports for Keras_tuner\n",
        "import sys\n",
        "\n",
        "if \"google.colab\" in sys.modules:\n",
        "    %pip install -q -U keras_tuner"
      ],
      "metadata": {
        "colab": {
          "base_uri": "https://localhost:8080/"
        },
        "id": "hMIfm7pU9xlP",
        "outputId": "733360f2-8784-4901-addf-5df8f16b186f"
      },
      "execution_count": 3,
      "outputs": [
        {
          "output_type": "stream",
          "name": "stdout",
          "text": [
            "\u001b[?25l     \u001b[90m━━━━━━━━━━━━━━━━━━━━━━━━━━━━━━━━━━━━━━━━\u001b[0m \u001b[32m0.0/129.1 kB\u001b[0m \u001b[31m?\u001b[0m eta \u001b[36m-:--:--\u001b[0m\r\u001b[2K     \u001b[91m━━━━━━━━━━━━━━━━━━━━━━━━━━━━\u001b[0m\u001b[91m╸\u001b[0m\u001b[90m━━━━━━━━━━━\u001b[0m \u001b[32m92.2/129.1 kB\u001b[0m \u001b[31m2.2 MB/s\u001b[0m eta \u001b[36m0:00:01\u001b[0m\r\u001b[2K     \u001b[90m━━━━━━━━━━━━━━━━━━━━━━━━━━━━━━━━━━━━━━━━\u001b[0m \u001b[32m129.1/129.1 kB\u001b[0m \u001b[31m2.1 MB/s\u001b[0m eta \u001b[36m0:00:00\u001b[0m\n",
            "\u001b[?25h"
          ]
        }
      ]
    },
    {
      "cell_type": "code",
      "source": [
        "import keras_tuner as kt\n",
        "import tensorflow as tf\n",
        "def build_model(hp):\n",
        "    n_hidden = hp.Int(\"n_hidden\", min_value=0, max_value=8, default=2)\n",
        "    n_neurons = hp.Int(\"n_neurons\", min_value=16, max_value=400)\n",
        "    learning_rate = hp.Float(\"learning_rate\", min_value=1e-4, max_value=1e-2,\n",
        "                             sampling=\"log\")\n",
        "    optimizer = tf.keras.optimizers.SGD(learning_rate=learning_rate)\n",
        "    model = tf.keras.Sequential()\n",
        "    model.add(tf.keras.layers.Flatten())\n",
        "    for _ in range(n_hidden):\n",
        "        model.add(tf.keras.layers.Dense(n_neurons, activation=\"relu\"))\n",
        "    model.add(tf.keras.layers.Dense(27, activation=\"softmax\"))\n",
        "    model.compile(loss=\"sparse_categorical_crossentropy\", optimizer=optimizer,\n",
        "                  metrics=[\"accuracy\"])\n",
        "    return model"
      ],
      "metadata": {
        "id": "lR-ugL2I99Ik"
      },
      "execution_count": 4,
      "outputs": []
    },
    {
      "cell_type": "code",
      "source": [
        "# Use KerasTuner RandomSearch to tune hyperparameters\n",
        "random_search_tuner = kt.RandomSearch(\n",
        "    build_model, objective=\"val_accuracy\", max_trials=30, overwrite=True,\n",
        "    directory=\"my_mnist\", project_name=\"my_rnd_search\", seed=42)\n",
        "random_search_tuner.search(X_train, y_train, epochs=20,\n",
        "                           validation_data=(X_valid, y_valid))"
      ],
      "metadata": {
        "colab": {
          "base_uri": "https://localhost:8080/"
        },
        "id": "ZCx6bd8D_OUN",
        "outputId": "f2cabe9c-7d25-41ac-af18-2044079df730"
      },
      "execution_count": 5,
      "outputs": [
        {
          "output_type": "stream",
          "name": "stdout",
          "text": [
            "Trial 30 Complete [00h 06m 25s]\n",
            "val_accuracy: 0.8510857224464417\n",
            "\n",
            "Best val_accuracy So Far: 0.8813714385032654\n",
            "Total elapsed time: 02h 15m 56s\n"
          ]
        }
      ]
    },
    {
      "cell_type": "code",
      "source": [
        "best_trial = random_search_tuner.oracle.get_best_trials(num_trials=1)[0]\n",
        "best_trial.summary()"
      ],
      "metadata": {
        "colab": {
          "base_uri": "https://localhost:8080/"
        },
        "id": "7Ruf2C74EBfd",
        "outputId": "aeb7c15a-8a27-46f4-d332-6ff2b9bf26fe"
      },
      "execution_count": 6,
      "outputs": [
        {
          "output_type": "stream",
          "name": "stdout",
          "text": [
            "Trial 17 summary\n",
            "Hyperparameters:\n",
            "n_hidden: 8\n",
            "n_neurons: 226\n",
            "learning_rate: 0.0033137745378583987\n",
            "Score: 0.8813714385032654\n"
          ]
        }
      ]
    },
    {
      "cell_type": "code",
      "source": [
        "best_trial.metrics.get_last_value(\"val_accuracy\")"
      ],
      "metadata": {
        "id": "U4MrV1qeEiV6",
        "outputId": "432f546a-18ad-4b63-da48-74e87de83222",
        "colab": {
          "base_uri": "https://localhost:8080/"
        }
      },
      "execution_count": 7,
      "outputs": [
        {
          "output_type": "execute_result",
          "data": {
            "text/plain": [
              "0.8813714385032654"
            ]
          },
          "metadata": {},
          "execution_count": 7
        }
      ]
    },
    {
      "cell_type": "code",
      "source": [
        "best_trial.metrics.get_last_value(\"accuracy\")"
      ],
      "metadata": {
        "colab": {
          "base_uri": "https://localhost:8080/"
        },
        "id": "8igEbURA1Jbr",
        "outputId": "02c94b1a-aa69-40f9-b701-a47067e35032"
      },
      "execution_count": 8,
      "outputs": [
        {
          "output_type": "execute_result",
          "data": {
            "text/plain": [
              "0.9423834681510925"
            ]
          },
          "metadata": {},
          "execution_count": 8
        }
      ]
    },
    {
      "cell_type": "code",
      "source": [
        "best_model = random_search_tuner.get_best_models(num_models=1)[0]\n",
        "test_loss, test_accuracy = best_model.evaluate(X_test, y_test)"
      ],
      "metadata": {
        "id": "QHrDnaHfEjoI",
        "outputId": "a8d95b49-aaef-4455-fa74-1e8840636266",
        "colab": {
          "base_uri": "https://localhost:8080/"
        }
      },
      "execution_count": 20,
      "outputs": [
        {
          "output_type": "stream",
          "name": "stderr",
          "text": [
            "WARNING:tensorflow:Detecting that an object or model or tf.train.Checkpoint is being deleted with unrestored values. See the following logs for the specific values in question. To silence these warnings, use `status.expect_partial()`. See https://www.tensorflow.org/api_docs/python/tf/train/Checkpoint#restorefor details about the status object returned by the restore function.\n",
            "WARNING:tensorflow:Value in checkpoint could not be found in the restored object: (root).layer_with_weights-0.kernel\n",
            "WARNING:tensorflow:Value in checkpoint could not be found in the restored object: (root).layer_with_weights-0.bias\n",
            "WARNING:tensorflow:Value in checkpoint could not be found in the restored object: (root).layer_with_weights-1.kernel\n",
            "WARNING:tensorflow:Value in checkpoint could not be found in the restored object: (root).layer_with_weights-1.bias\n",
            "WARNING:tensorflow:Value in checkpoint could not be found in the restored object: (root).layer_with_weights-2.kernel\n",
            "WARNING:tensorflow:Value in checkpoint could not be found in the restored object: (root).layer_with_weights-2.bias\n",
            "WARNING:tensorflow:Value in checkpoint could not be found in the restored object: (root).layer_with_weights-3.kernel\n",
            "WARNING:tensorflow:Value in checkpoint could not be found in the restored object: (root).layer_with_weights-3.bias\n",
            "WARNING:tensorflow:Value in checkpoint could not be found in the restored object: (root).layer_with_weights-4.kernel\n",
            "WARNING:tensorflow:Value in checkpoint could not be found in the restored object: (root).layer_with_weights-4.bias\n",
            "WARNING:tensorflow:Value in checkpoint could not be found in the restored object: (root).layer_with_weights-5.kernel\n",
            "WARNING:tensorflow:Value in checkpoint could not be found in the restored object: (root).layer_with_weights-5.bias\n",
            "WARNING:tensorflow:Value in checkpoint could not be found in the restored object: (root).layer_with_weights-6.kernel\n",
            "WARNING:tensorflow:Value in checkpoint could not be found in the restored object: (root).layer_with_weights-6.bias\n",
            "WARNING:tensorflow:Value in checkpoint could not be found in the restored object: (root).layer_with_weights-7.kernel\n",
            "WARNING:tensorflow:Value in checkpoint could not be found in the restored object: (root).layer_with_weights-7.bias\n",
            "WARNING:tensorflow:Value in checkpoint could not be found in the restored object: (root).layer_with_weights-8.kernel\n",
            "WARNING:tensorflow:Value in checkpoint could not be found in the restored object: (root).layer_with_weights-8.bias\n",
            "WARNING:tensorflow:Value in checkpoint could not be found in the restored object: (root).optimizer._variables.1\n",
            "WARNING:tensorflow:Value in checkpoint could not be found in the restored object: (root).optimizer._variables.2\n",
            "WARNING:tensorflow:Value in checkpoint could not be found in the restored object: (root).optimizer._variables.3\n",
            "WARNING:tensorflow:Value in checkpoint could not be found in the restored object: (root).optimizer._variables.4\n",
            "WARNING:tensorflow:Value in checkpoint could not be found in the restored object: (root).optimizer._variables.5\n",
            "WARNING:tensorflow:Value in checkpoint could not be found in the restored object: (root).optimizer._variables.6\n",
            "WARNING:tensorflow:Value in checkpoint could not be found in the restored object: (root).optimizer._variables.7\n",
            "WARNING:tensorflow:Value in checkpoint could not be found in the restored object: (root).optimizer._variables.8\n",
            "WARNING:tensorflow:Value in checkpoint could not be found in the restored object: (root).optimizer._variables.9\n",
            "WARNING:tensorflow:Value in checkpoint could not be found in the restored object: (root).optimizer._variables.10\n",
            "WARNING:tensorflow:Value in checkpoint could not be found in the restored object: (root).optimizer._variables.11\n",
            "WARNING:tensorflow:Value in checkpoint could not be found in the restored object: (root).optimizer._variables.12\n",
            "WARNING:tensorflow:Value in checkpoint could not be found in the restored object: (root).optimizer._variables.13\n",
            "WARNING:tensorflow:Value in checkpoint could not be found in the restored object: (root).optimizer._variables.14\n",
            "WARNING:tensorflow:Value in checkpoint could not be found in the restored object: (root).optimizer._variables.15\n",
            "WARNING:tensorflow:Value in checkpoint could not be found in the restored object: (root).optimizer._variables.16\n",
            "WARNING:tensorflow:Value in checkpoint could not be found in the restored object: (root).optimizer._variables.17\n",
            "WARNING:tensorflow:Value in checkpoint could not be found in the restored object: (root).optimizer._variables.18\n"
          ]
        },
        {
          "output_type": "stream",
          "name": "stdout",
          "text": [
            "463/463 [==============================] - 6s 10ms/step - loss: 0.4873 - accuracy: 0.8645\n"
          ]
        }
      ]
    },
    {
      "cell_type": "markdown",
      "source": [
        "Manual model building"
      ],
      "metadata": {
        "id": "gOooKiKE_lhd"
      }
    },
    {
      "cell_type": "code",
      "source": [
        "import keras\n",
        "model = keras.models.Sequential()\n",
        "\n",
        "#model.add(keras.layers.Flatten(input_shape=[28,28]))\n",
        "model.add(keras.layers.InputLayer(input_shape=[784]))\n",
        "model.add(keras.layers.Dense(300, activation=\"relu\"))\n",
        "model.add(keras.layers.Dense(100, activation=\"relu\"))\n",
        "model.add(keras.layers.Dense(64, activation=\"relu\"))\n",
        "model.add(keras.layers.Dense(27, activation=\"softmax\"))"
      ],
      "metadata": {
        "id": "hdsD2OyPJ3uI"
      },
      "execution_count": 35,
      "outputs": []
    },
    {
      "cell_type": "code",
      "source": [
        "model.compile(loss=\"sparse_categorical_crossentropy\",\n",
        "              optimizer=\"adam\",\n",
        "              metrics=[\"accuracy\"])\n"
      ],
      "metadata": {
        "id": "nzpfZaXnLEo6"
      },
      "execution_count": 36,
      "outputs": []
    },
    {
      "cell_type": "code",
      "source": [
        "#Callbacks\n",
        "#stops the training if val_accuracy doesn't improve in 10 epochs\n",
        "from keras.callbacks import EarlyStopping\n",
        "early_stopping = EarlyStopping(monitor='val_accuracy', patience=10, restore_best_weights=True)"
      ],
      "metadata": {
        "id": "T2r4bnS23_ws"
      },
      "execution_count": 37,
      "outputs": []
    },
    {
      "cell_type": "markdown",
      "source": [
        "Train the model"
      ],
      "metadata": {
        "id": "Vs4RVrLWLmD5"
      }
    },
    {
      "cell_type": "code",
      "source": [
        "#Fit the model on train_set, validation set used as validation_data\n",
        "history = model.fit(X_train, y_train, epochs=30, validation_data=(X_valid, y_valid), callbacks=[early_stopping])"
      ],
      "metadata": {
        "id": "jNcF8uC4LoJT",
        "colab": {
          "base_uri": "https://localhost:8080/"
        },
        "outputId": "574c017e-169f-463d-ea68-bcb558c9271d"
      },
      "execution_count": 38,
      "outputs": [
        {
          "output_type": "stream",
          "name": "stdout",
          "text": [
            "Epoch 1/30\n",
            "2229/2229 [==============================] - 19s 8ms/step - loss: 2.1891 - accuracy: 0.4847 - val_loss: 0.9521 - val_accuracy: 0.7090\n",
            "Epoch 2/30\n",
            "2229/2229 [==============================] - 19s 9ms/step - loss: 0.7868 - accuracy: 0.7628 - val_loss: 0.6623 - val_accuracy: 0.7955\n",
            "Epoch 3/30\n",
            "2229/2229 [==============================] - 17s 8ms/step - loss: 0.5982 - accuracy: 0.8162 - val_loss: 0.6091 - val_accuracy: 0.8245\n",
            "Epoch 4/30\n",
            "2229/2229 [==============================] - 17s 8ms/step - loss: 0.5158 - accuracy: 0.8421 - val_loss: 0.5532 - val_accuracy: 0.8355\n",
            "Epoch 5/30\n",
            "2229/2229 [==============================] - 17s 8ms/step - loss: 0.4605 - accuracy: 0.8574 - val_loss: 0.5328 - val_accuracy: 0.8419\n",
            "Epoch 6/30\n",
            "2229/2229 [==============================] - 18s 8ms/step - loss: 0.4229 - accuracy: 0.8670 - val_loss: 0.5150 - val_accuracy: 0.8504\n",
            "Epoch 7/30\n",
            "2229/2229 [==============================] - 19s 8ms/step - loss: 0.3835 - accuracy: 0.8793 - val_loss: 0.4978 - val_accuracy: 0.8604\n",
            "Epoch 8/30\n",
            "2229/2229 [==============================] - 18s 8ms/step - loss: 0.3678 - accuracy: 0.8845 - val_loss: 0.4907 - val_accuracy: 0.8611\n",
            "Epoch 9/30\n",
            "2229/2229 [==============================] - 18s 8ms/step - loss: 0.3481 - accuracy: 0.8900 - val_loss: 0.4874 - val_accuracy: 0.8666\n",
            "Epoch 10/30\n",
            "2229/2229 [==============================] - 19s 9ms/step - loss: 0.3357 - accuracy: 0.8926 - val_loss: 0.4645 - val_accuracy: 0.8741\n",
            "Epoch 11/30\n",
            "2229/2229 [==============================] - 19s 9ms/step - loss: 0.3196 - accuracy: 0.8983 - val_loss: 0.4665 - val_accuracy: 0.8701\n",
            "Epoch 12/30\n",
            "2229/2229 [==============================] - 19s 8ms/step - loss: 0.3074 - accuracy: 0.9015 - val_loss: 0.4676 - val_accuracy: 0.8757\n",
            "Epoch 13/30\n",
            "2229/2229 [==============================] - 19s 8ms/step - loss: 0.2962 - accuracy: 0.9056 - val_loss: 0.5106 - val_accuracy: 0.8715\n",
            "Epoch 14/30\n",
            "2229/2229 [==============================] - 18s 8ms/step - loss: 0.2872 - accuracy: 0.9089 - val_loss: 0.5174 - val_accuracy: 0.8705\n",
            "Epoch 15/30\n",
            "2229/2229 [==============================] - 19s 8ms/step - loss: 0.2849 - accuracy: 0.9111 - val_loss: 0.4942 - val_accuracy: 0.8755\n",
            "Epoch 16/30\n",
            "2229/2229 [==============================] - 17s 8ms/step - loss: 0.2751 - accuracy: 0.9124 - val_loss: 0.5541 - val_accuracy: 0.8681\n",
            "Epoch 17/30\n",
            "2229/2229 [==============================] - 18s 8ms/step - loss: 0.2720 - accuracy: 0.9146 - val_loss: 0.5625 - val_accuracy: 0.8645\n",
            "Epoch 18/30\n",
            "2229/2229 [==============================] - 19s 8ms/step - loss: 0.2651 - accuracy: 0.9165 - val_loss: 0.5560 - val_accuracy: 0.8710\n",
            "Epoch 19/30\n",
            "2229/2229 [==============================] - 19s 8ms/step - loss: 0.2634 - accuracy: 0.9172 - val_loss: 0.5177 - val_accuracy: 0.8759\n",
            "Epoch 20/30\n",
            "2229/2229 [==============================] - 17s 8ms/step - loss: 0.2502 - accuracy: 0.9216 - val_loss: 0.5545 - val_accuracy: 0.8710\n",
            "Epoch 21/30\n",
            "2229/2229 [==============================] - 19s 8ms/step - loss: 0.2581 - accuracy: 0.9189 - val_loss: 0.5660 - val_accuracy: 0.8709\n",
            "Epoch 22/30\n",
            "2229/2229 [==============================] - 19s 9ms/step - loss: 0.2442 - accuracy: 0.9216 - val_loss: 0.5951 - val_accuracy: 0.8706\n",
            "Epoch 23/30\n",
            "2229/2229 [==============================] - 19s 8ms/step - loss: 0.2358 - accuracy: 0.9251 - val_loss: 0.5690 - val_accuracy: 0.8763\n",
            "Epoch 24/30\n",
            "2229/2229 [==============================] - 17s 8ms/step - loss: 0.2529 - accuracy: 0.9218 - val_loss: 0.5491 - val_accuracy: 0.8766\n",
            "Epoch 25/30\n",
            "2229/2229 [==============================] - 18s 8ms/step - loss: 0.2424 - accuracy: 0.9245 - val_loss: 0.6356 - val_accuracy: 0.8599\n",
            "Epoch 26/30\n",
            "2229/2229 [==============================] - 17s 8ms/step - loss: 0.2312 - accuracy: 0.9275 - val_loss: 0.5990 - val_accuracy: 0.8725\n",
            "Epoch 27/30\n",
            "2229/2229 [==============================] - 18s 8ms/step - loss: 0.2289 - accuracy: 0.9288 - val_loss: 0.8773 - val_accuracy: 0.8549\n",
            "Epoch 28/30\n",
            "2229/2229 [==============================] - 18s 8ms/step - loss: 0.2241 - accuracy: 0.9288 - val_loss: 0.6179 - val_accuracy: 0.8689\n",
            "Epoch 29/30\n",
            "2229/2229 [==============================] - 18s 8ms/step - loss: 0.2220 - accuracy: 0.9287 - val_loss: 0.6238 - val_accuracy: 0.8612\n",
            "Epoch 30/30\n",
            "2229/2229 [==============================] - 18s 8ms/step - loss: 0.2277 - accuracy: 0.9294 - val_loss: 0.5995 - val_accuracy: 0.8800\n"
          ]
        }
      ]
    },
    {
      "cell_type": "code",
      "source": [
        "#graphically shows metrics\n",
        "%matplotlib inline\n",
        "import matplotlib.pyplot as plt\n",
        "\n",
        "pd.DataFrame(history.history).plot(figsize=(8, 5))\n",
        "plt.grid(True)\n",
        "plt.gca().set_ylim(0, 1)\n",
        "plt.show()"
      ],
      "metadata": {
        "colab": {
          "base_uri": "https://localhost:8080/",
          "height": 451
        },
        "id": "ODvzzf4L2Vvv",
        "outputId": "6e31e88c-ab1b-48a1-fa1f-b46b7f7c420c"
      },
      "execution_count": 39,
      "outputs": [
        {
          "output_type": "display_data",
          "data": {
            "text/plain": [
              "<Figure size 800x500 with 1 Axes>"
            ],
            "image/png": "[encoded data removed]"
          },
          "metadata": {}
        }
      ]
    },
    {
      "cell_type": "markdown",
      "source": [
        "Evaluating the manual model"
      ],
      "metadata": {
        "id": "zrUtIqAyED_h"
      }
    },
    {
      "cell_type": "code",
      "source": [
        "#evaluating on the test set\n",
        "model.evaluate(X_test, y_test)"
      ],
      "metadata": {
        "colab": {
          "base_uri": "https://localhost:8080/"
        },
        "id": "vPvBaPCM5hTh",
        "outputId": "47c7e348-6c19-4f4e-889d-d1b999d04083"
      },
      "execution_count": 40,
      "outputs": [
        {
          "output_type": "stream",
          "name": "stdout",
          "text": [
            "463/463 [==============================] - 1s 3ms/step - loss: 0.6371 - accuracy: 0.8638\n"
          ]
        },
        {
          "output_type": "execute_result",
          "data": {
            "text/plain": [
              "[0.637067973613739, 0.8637745976448059]"
            ]
          },
          "metadata": {},
          "execution_count": 40
        }
      ]
    }
  ]
}