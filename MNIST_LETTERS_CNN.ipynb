{
  "nbformat": 4,
  "nbformat_minor": 0,
  "metadata": {
    "colab": {
      "provenance": [],
      "gpuType": "T4"
    },
    "kernelspec": {
      "name": "python3",
      "display_name": "Python 3"
    },
    "language_info": {
      "name": "python"
    },
    "accelerator": "GPU"
  },
  "cells": [
    {
      "cell_type": "code",
      "execution_count": 3,
      "metadata": {
        "id": "0lKcfhJ3ygMW"
      },
      "outputs": [],
      "source": [
        "import pandas as pd\n",
        "train_set=pd.read_csv('emnist-letters-train.csv').to_numpy()\n",
        "test_set =pd.read_csv('emnist-letters-test.csv').to_numpy()"
      ]
    },
    {
      "cell_type": "code",
      "source": [
        "y = train_set[:, 0]\n",
        "X = train_set[:, 1:]\n",
        "X_valid,X_train = X[:17500] / 255, X[17500:] / 255\n",
        "y_valid,y_train = y[:17500], y[17500:]"
      ],
      "metadata": {
        "id": "o1A1QAKuy3M1"
      },
      "execution_count": 4,
      "outputs": []
    },
    {
      "cell_type": "code",
      "source": [
        "test_y = test_set[:, 0]\n",
        "test_X = test_set[:, 1:]\n",
        "X_test = test_X / 255\n",
        "y_test = test_y"
      ],
      "metadata": {
        "id": "m1e_QbvezPnm"
      },
      "execution_count": 5,
      "outputs": []
    },
    {
      "cell_type": "code",
      "source": [
        "import numpy as np\n",
        "X_train = np.reshape(X_train, (-1,28,28,1))\n",
        "X_test = np.reshape(X_test, (-1,28,28,1))\n",
        "X_train.shape, X_test.shape"
      ],
      "metadata": {
        "colab": {
          "base_uri": "https://localhost:8080/"
        },
        "id": "ewINK2pNzC0K",
        "outputId": "61a63d89-1b7d-4056-cf53-68c0a5b7e14d"
      },
      "execution_count": 6,
      "outputs": [
        {
          "output_type": "execute_result",
          "data": {
            "text/plain": [
              "((71299, 28, 28, 1), (14799, 28, 28, 1))"
            ]
          },
          "metadata": {},
          "execution_count": 6
        }
      ]
    },
    {
      "cell_type": "code",
      "source": [
        "X_valid = np.reshape(X_valid, (-1,28,28,1))\n",
        "X_valid.shape"
      ],
      "metadata": {
        "colab": {
          "base_uri": "https://localhost:8080/"
        },
        "id": "OYDZM_Jo2QWx",
        "outputId": "7d3c9afd-91bc-4538-8083-cc13468c5471"
      },
      "execution_count": 7,
      "outputs": [
        {
          "output_type": "execute_result",
          "data": {
            "text/plain": [
              "(17500, 28, 28, 1)"
            ]
          },
          "metadata": {},
          "execution_count": 7
        }
      ]
    },
    {
      "cell_type": "code",
      "source": [
        "\n",
        "y_valid.shape"
      ],
      "metadata": {
        "colab": {
          "base_uri": "https://localhost:8080/"
        },
        "id": "eYmNBHWf2zob",
        "outputId": "c59885d2-a559-499c-c227-0c173f3190c4"
      },
      "execution_count": 8,
      "outputs": [
        {
          "output_type": "execute_result",
          "data": {
            "text/plain": [
              "(17500,)"
            ]
          },
          "metadata": {},
          "execution_count": 8
        }
      ]
    },
    {
      "cell_type": "code",
      "source": [
        "y_train.shape"
      ],
      "metadata": {
        "colab": {
          "base_uri": "https://localhost:8080/"
        },
        "id": "ilMg1i4u3Xed",
        "outputId": "935ccc49-d911-4f6e-ff59-7acf2b807ce3"
      },
      "execution_count": 9,
      "outputs": [
        {
          "output_type": "execute_result",
          "data": {
            "text/plain": [
              "(71299,)"
            ]
          },
          "metadata": {},
          "execution_count": 9
        }
      ]
    },
    {
      "cell_type": "markdown",
      "source": [
        "CNN Model Building\n"
      ],
      "metadata": {
        "id": "h2SOcaN6y5jM"
      }
    },
    {
      "cell_type": "code",
      "source": [
        "#Building the model\n",
        "from tensorflow import keras\n",
        "CnnModel = keras.models.Sequential([\n",
        "    keras.layers.Conv2D(filters=64, kernel_size=7, activation='relu', padding=\"SAME\",\n",
        "                        input_shape=[28, 28, 1]),\n",
        "    keras.layers.MaxPooling2D(pool_size=2),\n",
        "    keras.layers.Conv2D(filters=128, kernel_size=3, activation='relu', padding=\"SAME\"),\n",
        "    keras.layers.Conv2D(filters=128, kernel_size=3, activation='relu', padding=\"SAME\"),\n",
        "    keras.layers.MaxPooling2D(pool_size=2),\n",
        "    keras.layers.Conv2D(filters=256, kernel_size=3, activation='relu', padding=\"SAME\"),\n",
        "    keras.layers.Conv2D(filters=256, kernel_size=3, activation='relu', padding=\"SAME\"),\n",
        "    keras.layers.MaxPooling2D(pool_size=2),\n",
        "    keras.layers.Flatten(),\n",
        "    keras.layers.Dense(units=128, activation='relu'),\n",
        "    keras.layers.Dropout(0.5),\n",
        "    keras.layers.Dense(units=64, activation='relu'),\n",
        "    keras.layers.Dropout(0.5),\n",
        "    keras.layers.Dense(units=27, activation='softmax'),\n",
        "])"
      ],
      "metadata": {
        "id": "Pc7gwGtmy60z"
      },
      "execution_count": 10,
      "outputs": []
    },
    {
      "cell_type": "code",
      "source": [
        "#Callbacks\n",
        "#stops the training if val_accuracy doesn't improve in 10 epochs\n",
        "from keras.callbacks import EarlyStopping\n",
        "early_stopping = EarlyStopping(monitor='val_accuracy', patience=10, restore_best_weights=True)"
      ],
      "metadata": {
        "id": "Tgl6g7QE6QKS"
      },
      "execution_count": 11,
      "outputs": []
    },
    {
      "cell_type": "code",
      "source": [
        "#overview of the layers\n",
        "CnnModel.summary()"
      ],
      "metadata": {
        "colab": {
          "base_uri": "https://localhost:8080/"
        },
        "id": "rwk_Gvo306-6",
        "outputId": "d111c8c3-b937-4348-824a-f8a0019b421c"
      },
      "execution_count": 12,
      "outputs": [
        {
          "output_type": "stream",
          "name": "stdout",
          "text": [
            "Model: \"sequential\"\n",
            "_________________________________________________________________\n",
            " Layer (type)                Output Shape              Param #   \n",
            "=================================================================\n",
            " conv2d (Conv2D)             (None, 28, 28, 64)        3200      \n",
            "                                                                 \n",
            " max_pooling2d (MaxPooling2  (None, 14, 14, 64)        0         \n",
            " D)                                                              \n",
            "                                                                 \n",
            " conv2d_1 (Conv2D)           (None, 14, 14, 128)       73856     \n",
            "                                                                 \n",
            " conv2d_2 (Conv2D)           (None, 14, 14, 128)       147584    \n",
            "                                                                 \n",
            " max_pooling2d_1 (MaxPoolin  (None, 7, 7, 128)         0         \n",
            " g2D)                                                            \n",
            "                                                                 \n",
            " conv2d_3 (Conv2D)           (None, 7, 7, 256)         295168    \n",
            "                                                                 \n",
            " conv2d_4 (Conv2D)           (None, 7, 7, 256)         590080    \n",
            "                                                                 \n",
            " max_pooling2d_2 (MaxPoolin  (None, 3, 3, 256)         0         \n",
            " g2D)                                                            \n",
            "                                                                 \n",
            " flatten (Flatten)           (None, 2304)              0         \n",
            "                                                                 \n",
            " dense (Dense)               (None, 128)               295040    \n",
            "                                                                 \n",
            " dropout (Dropout)           (None, 128)               0         \n",
            "                                                                 \n",
            " dense_1 (Dense)             (None, 64)                8256      \n",
            "                                                                 \n",
            " dropout_1 (Dropout)         (None, 64)                0         \n",
            "                                                                 \n",
            " dense_2 (Dense)             (None, 27)                1755      \n",
            "                                                                 \n",
            "=================================================================\n",
            "Total params: 1414939 (5.40 MB)\n",
            "Trainable params: 1414939 (5.40 MB)\n",
            "Non-trainable params: 0 (0.00 Byte)\n",
            "_________________________________________________________________\n"
          ]
        }
      ]
    },
    {
      "cell_type": "code",
      "source": [
        "CnnModel.compile(loss=\"sparse_categorical_crossentropy\",\n",
        "              optimizer=keras.optimizers.SGD(momentum=0.9),\n",
        "              metrics=[\"accuracy\"])"
      ],
      "metadata": {
        "id": "3T9rn6C31BQM"
      },
      "execution_count": 13,
      "outputs": []
    },
    {
      "cell_type": "code",
      "source": [
        "y_valid.shape"
      ],
      "metadata": {
        "colab": {
          "base_uri": "https://localhost:8080/"
        },
        "id": "327TLldm2JlF",
        "outputId": "b6434062-6007-45b9-fec8-23f04bf23b1a"
      },
      "execution_count": 14,
      "outputs": [
        {
          "output_type": "execute_result",
          "data": {
            "text/plain": [
              "(17500,)"
            ]
          },
          "metadata": {},
          "execution_count": 14
        }
      ]
    },
    {
      "cell_type": "markdown",
      "source": [
        "Train model"
      ],
      "metadata": {
        "id": "kH2QfNQM1IOe"
      }
    },
    {
      "cell_type": "code",
      "source": [
        "history = CnnModel.fit(X_train, y_train, epochs=30, validation_data=(X_valid, y_valid), callbacks=[early_stopping])"
      ],
      "metadata": {
        "colab": {
          "base_uri": "https://localhost:8080/"
        },
        "id": "-W0M3AEE1Jht",
        "outputId": "addb33d4-4476-4816-9fa6-8994ed2450e7"
      },
      "execution_count": 15,
      "outputs": [
        {
          "output_type": "stream",
          "name": "stdout",
          "text": [
            "Epoch 1/30\n",
            "2229/2229 [==============================] - 24s 8ms/step - loss: 1.4247 - accuracy: 0.5615 - val_loss: 0.3736 - val_accuracy: 0.8805\n",
            "Epoch 2/30\n",
            "2229/2229 [==============================] - 16s 7ms/step - loss: 0.5439 - accuracy: 0.8336 - val_loss: 0.2627 - val_accuracy: 0.9222\n",
            "Epoch 3/30\n",
            "2229/2229 [==============================] - 17s 8ms/step - loss: 0.4036 - accuracy: 0.8803 - val_loss: 0.2139 - val_accuracy: 0.9332\n",
            "Epoch 4/30\n",
            "2229/2229 [==============================] - 18s 8ms/step - loss: 0.3446 - accuracy: 0.8980 - val_loss: 0.2394 - val_accuracy: 0.9289\n",
            "Epoch 5/30\n",
            "2229/2229 [==============================] - 18s 8ms/step - loss: 0.3158 - accuracy: 0.9073 - val_loss: 0.2079 - val_accuracy: 0.9332\n",
            "Epoch 6/30\n",
            "2229/2229 [==============================] - 17s 7ms/step - loss: 0.2863 - accuracy: 0.9141 - val_loss: 0.2087 - val_accuracy: 0.9361\n",
            "Epoch 7/30\n",
            "2229/2229 [==============================] - 17s 8ms/step - loss: 0.2646 - accuracy: 0.9215 - val_loss: 0.1872 - val_accuracy: 0.9417\n",
            "Epoch 8/30\n",
            "2229/2229 [==============================] - 17s 8ms/step - loss: 0.2547 - accuracy: 0.9224 - val_loss: 0.2117 - val_accuracy: 0.9397\n",
            "Epoch 9/30\n",
            "2229/2229 [==============================] - 16s 7ms/step - loss: 0.2349 - accuracy: 0.9286 - val_loss: 0.2018 - val_accuracy: 0.9429\n",
            "Epoch 10/30\n",
            "2229/2229 [==============================] - 17s 7ms/step - loss: 0.2248 - accuracy: 0.9307 - val_loss: 0.2006 - val_accuracy: 0.9407\n",
            "Epoch 11/30\n",
            "2229/2229 [==============================] - 18s 8ms/step - loss: 0.2123 - accuracy: 0.9334 - val_loss: 0.2040 - val_accuracy: 0.9433\n",
            "Epoch 12/30\n",
            "2229/2229 [==============================] - 18s 8ms/step - loss: 0.2055 - accuracy: 0.9363 - val_loss: 0.2048 - val_accuracy: 0.9421\n",
            "Epoch 13/30\n",
            "2229/2229 [==============================] - 16s 7ms/step - loss: 0.1892 - accuracy: 0.9389 - val_loss: 0.2288 - val_accuracy: 0.9409\n",
            "Epoch 14/30\n",
            "2229/2229 [==============================] - 17s 8ms/step - loss: 0.1927 - accuracy: 0.9386 - val_loss: 0.2174 - val_accuracy: 0.9440\n",
            "Epoch 15/30\n",
            "2229/2229 [==============================] - 17s 7ms/step - loss: 0.1855 - accuracy: 0.9407 - val_loss: 0.2285 - val_accuracy: 0.9393\n",
            "Epoch 16/30\n",
            "2229/2229 [==============================] - 16s 7ms/step - loss: 0.1785 - accuracy: 0.9429 - val_loss: 0.2276 - val_accuracy: 0.9417\n",
            "Epoch 17/30\n",
            "2229/2229 [==============================] - 18s 8ms/step - loss: 0.1683 - accuracy: 0.9450 - val_loss: 0.2346 - val_accuracy: 0.9417\n",
            "Epoch 18/30\n",
            "2229/2229 [==============================] - 18s 8ms/step - loss: 0.1700 - accuracy: 0.9446 - val_loss: 0.2401 - val_accuracy: 0.9413\n",
            "Epoch 19/30\n",
            "2229/2229 [==============================] - 18s 8ms/step - loss: 0.1685 - accuracy: 0.9455 - val_loss: 0.2271 - val_accuracy: 0.9365\n",
            "Epoch 20/30\n",
            "2229/2229 [==============================] - 18s 8ms/step - loss: 0.1627 - accuracy: 0.9465 - val_loss: 0.2394 - val_accuracy: 0.9414\n",
            "Epoch 21/30\n",
            "2229/2229 [==============================] - 17s 7ms/step - loss: 0.1536 - accuracy: 0.9487 - val_loss: 0.2452 - val_accuracy: 0.9398\n",
            "Epoch 22/30\n",
            "2229/2229 [==============================] - 16s 7ms/step - loss: 0.1592 - accuracy: 0.9470 - val_loss: 0.2587 - val_accuracy: 0.9398\n",
            "Epoch 23/30\n",
            "2229/2229 [==============================] - 16s 7ms/step - loss: 0.1694 - accuracy: 0.9452 - val_loss: 0.2689 - val_accuracy: 0.9378\n",
            "Epoch 24/30\n",
            "2229/2229 [==============================] - 17s 8ms/step - loss: 0.1590 - accuracy: 0.9475 - val_loss: 0.2822 - val_accuracy: 0.9379\n"
          ]
        }
      ]
    },
    {
      "cell_type": "markdown",
      "source": [
        "Evaluate the model"
      ],
      "metadata": {
        "id": "p-AVbkJS6oqr"
      }
    },
    {
      "cell_type": "code",
      "source": [
        "%matplotlib inline\n",
        "import matplotlib.pyplot as plt\n",
        "\n",
        "pd.DataFrame(history.history).plot(figsize=(8, 5))\n",
        "plt.grid(True)\n",
        "plt.gca().set_ylim(0, 1)\n",
        "plt.show()"
      ],
      "metadata": {
        "colab": {
          "base_uri": "https://localhost:8080/",
          "height": 451
        },
        "id": "fmUznCy46p37",
        "outputId": "846fcd3d-bee7-43b8-c8e3-196588ec4a9f"
      },
      "execution_count": 16,
      "outputs": [
        {
          "output_type": "display_data",
          "data": {
            "text/plain": [
              "<Figure size 800x500 with 1 Axes>"
            ],
            "image/png": "[encoded data removed]"
          },
          "metadata": {}
        }
      ]
    },
    {
      "cell_type": "code",
      "source": [
        "CnnModel.evaluate(X_test, y_test)"
      ],
      "metadata": {
        "colab": {
          "base_uri": "https://localhost:8080/"
        },
        "id": "x4bBw4N16qo6",
        "outputId": "4bd494a0-e0a4-4f77-cec0-d95d390196c8"
      },
      "execution_count": 19,
      "outputs": [
        {
          "output_type": "stream",
          "name": "stdout",
          "text": [
            "463/463 [==============================] - 2s 5ms/step - loss: 0.2549 - accuracy: 0.9328\n"
          ]
        },
        {
          "output_type": "execute_result",
          "data": {
            "text/plain": [
              "[0.2549048364162445, 0.9327657222747803]"
            ]
          },
          "metadata": {},
          "execution_count": 19
        }
      ]
    },
    {
      "cell_type": "code",
      "source": [
        "predictions = np.argmax(CnnModel.predict(X_test), axis=1)\n",
        "\n",
        "sample_size = 5\n",
        "for i in range(sample_size):\n",
        "  # we choose a random index in the test data\n",
        "  index = np.random.randint(len(X_test))\n",
        "\n",
        "  # Display the image (rotated 90 degrees)\n",
        "\n",
        "  rotated_image = np.rot90(X_test[index].reshape(28, 28), k=-1)\n",
        "\n",
        "  # Mirror the rotated image (vertically)\n",
        "  mirrored_image = np.fliplr(rotated_image)\n",
        "\n",
        "  plt.imshow(mirrored_image, cmap='gray')\n",
        "  plt.axis('off')\n",
        "  plt.show()\n",
        "\n",
        "  predicted_class = predictions[index]\n",
        "  actual_class = y_test[index]\n",
        "\n",
        "  # Convert the ascii to letters in the alphabet (which is offset by 96 for lowercase letters)\n",
        "  predicted_letter = chr(predicted_class + 96) if predicted_class != 0 else 'Background'\n",
        "  actual_letter = chr(actual_class + 96) if actual_class != 0 else 'Background'\n",
        "\n",
        "\n",
        "      # Check if the model's prediction matches the actual class\n",
        "  if predicted_class == actual_class:\n",
        "    print(\"Correct Prediction!\")\n",
        "  else:\n",
        "    print(\"Incorrect Prediction.\")\n",
        "\n",
        "  print(\"Predicted Letter:\", predicted_letter)\n",
        "  print(\"Actual Letter:\", actual_letter)"
      ],
      "metadata": {
        "colab": {
          "base_uri": "https://localhost:8080/",
          "height": 1000
        },
        "id": "u9pXxZNp-8or",
        "outputId": "4d84a5d8-cbf9-4d8a-ce21-180dc6626b4c"
      },
      "execution_count": 20,
      "outputs": [
        {
          "output_type": "stream",
          "name": "stdout",
          "text": [
            "463/463 [==============================] - 1s 2ms/step\n"
          ]
        },
        {
          "output_type": "display_data",
          "data": {
            "text/plain": [
              "<Figure size 640x480 with 1 Axes>"
            ],
            "image/png": "[encoded data removed]"
          },
          "metadata": {}
        },
        {
          "output_type": "stream",
          "name": "stdout",
          "text": [
            "Correct Prediction!\n",
            "Predicted Letter: j\n",
            "Actual Letter: j\n"
          ]
        },
        {
          "output_type": "display_data",
          "data": {
            "text/plain": [
              "<Figure size 640x480 with 1 Axes>"
            ],
            "image/png": "[encoded data removed]"
          },
          "metadata": {}
        },
        {
          "output_type": "stream",
          "name": "stdout",
          "text": [
            "Correct Prediction!\n",
            "Predicted Letter: d\n",
            "Actual Letter: d\n"
          ]
        },
        {
          "output_type": "display_data",
          "data": {
            "text/plain": [
              "<Figure size 640x480 with 1 Axes>"
            ],
            "image/png": "[encoded data removed]"
          },
          "metadata": {}
        },
        {
          "output_type": "stream",
          "name": "stdout",
          "text": [
            "Incorrect Prediction.\n",
            "Predicted Letter: l\n",
            "Actual Letter: i\n"
          ]
        },
        {
          "output_type": "display_data",
          "data": {
            "text/plain": [
              "<Figure size 640x480 with 1 Axes>"
            ],
            "image/png": "[encoded data removed]"
          },
          "metadata": {}
        },
        {
          "output_type": "stream",
          "name": "stdout",
          "text": [
            "Correct Prediction!\n",
            "Predicted Letter: m\n",
            "Actual Letter: m\n"
          ]
        },
        {
          "output_type": "display_data",
          "data": {
            "text/plain": [
              "<Figure size 640x480 with 1 Axes>"
            ],
            "image/png": "[encoded data removed]"
          },
          "metadata": {}
        },
        {
          "output_type": "stream",
          "name": "stdout",
          "text": [
            "Correct Prediction!\n",
            "Predicted Letter: f\n",
            "Actual Letter: f\n"
          ]
        }
      ]
    }
  ]
}